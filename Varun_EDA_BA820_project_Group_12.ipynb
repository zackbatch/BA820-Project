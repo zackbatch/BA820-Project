{
  "cells": [
    {
      "cell_type": "markdown",
      "metadata": {
        "id": "view-in-github",
        "colab_type": "text"
      },
      "source": [
        "<a href=\"https://colab.research.google.com/github/zackbatch/BA820-Project/blob/main/Varun_EDA_BA820_project_Group_12.ipynb\" target=\"_parent\"><img src=\"https://colab.research.google.com/assets/colab-badge.svg\" alt=\"Open In Colab\"/></a>"
      ]
    },
    {
      "cell_type": "markdown",
      "metadata": {
        "id": "dspOpcUZi-QD"
      },
      "source": [
        "#**PLAY-BY-PLAY, PLAYER-BY-PLAYER – COLLEGE BASKETBALL ANALYTICS**"
      ]
    },
    {
      "cell_type": "code",
      "source": [],
      "metadata": {
        "id": "CgTaVVPaznPp"
      },
      "execution_count": null,
      "outputs": []
    },
    {
      "cell_type": "markdown",
      "metadata": {
        "id": "n2S22JRTP3G4"
      },
      "source": [
        "**Group 12 Team Members:**\n",
        "Audrey Sellers,\n",
        "Jaishankar Govindaraj,\n",
        "Priyanka Chaudhari,\n",
        "Varun Kaza,\n",
        "Zack Batchelder"
      ]
    },
    {
      "cell_type": "markdown",
      "metadata": {
        "id": "xrIeFJSYl7zC"
      },
      "source": [
        "#Importing Libraries"
      ]
    },
    {
      "cell_type": "code",
      "source": [
        "#importing libraries\n",
        "import pandas as pd\n",
        "import numpy as np\n",
        "import missingno as msno\n",
        "import matplotlib.pyplot as plt\n",
        "from sklearn.preprocessing import StandardScaler\n",
        "from sklearn.linear_model import LogisticRegression\n",
        "from sklearn.model_selection import train_test_split\n",
        "from sklearn.metrics import confusion_matrix\n",
        "from scipy.cluster.hierarchy import linkage, fcluster\n",
        "from sklearn.metrics import adjusted_rand_score, normalized_mutual_info_score\n",
        "from sklearn.cluster import KMeans\n",
        "import plotly.express as px\n",
        "from sklearn.manifold import TSNE\n",
        "from gensim.models import Word2Vec\n",
        "from nltk.corpus import stopwords\n",
        "import nltk\n",
        "from nltk.tokenize import word_tokenize\n",
        "from wordcloud import WordCloud\n",
        "import gensim.downloader as api\n",
        "from sklearn.preprocessing import LabelEncoder\n",
        "from sklearn.ensemble import RandomForestRegressor\n",
        "from sklearn.metrics import mean_absolute_error, mean_squared_error, r2_score, mean_absolute_percentage_error\n",
        "from textblob import TextBlob\n",
        "from sklearn.metrics.pairwise import cosine_similarity\n",
        "from sklearn.model_selection import train_test_split\n",
        "from sklearn.ensemble import RandomForestClassifier\n",
        "from sklearn.metrics import classification_report\n"
      ],
      "metadata": {
        "id": "AOkkoZ7a9ubT"
      },
      "execution_count": null,
      "outputs": []
    },
    {
      "cell_type": "code",
      "execution_count": null,
      "metadata": {
        "colab": {
          "base_uri": "https://localhost:8080/",
          "height": 459
        },
        "id": "ADM2VhrMAq6n",
        "outputId": "53713377-6195-4098-d1ec-f0e9102734fc"
      },
      "outputs": [
        {
          "output_type": "stream",
          "name": "stderr",
          "text": [
            "<ipython-input-2-310eda7333dd>:2: DtypeWarning: Columns (27) have mixed types. Specify dtype option on import or set low_memory=False.\n",
            "  df = pd.read_csv('https://raw.githubusercontent.com/zackbatch/BA820-Project/main/CollegeBasketballPlayers2009-2021.csv')\n"
          ]
        },
        {
          "output_type": "execute_result",
          "data": {
            "text/plain": [
              "              player_name              team  conf  GP  Min_per   Ortg   usg  \\\n",
              "0           DeAndrae Ross     South Alabama    SB  26     29.5   97.3  16.6   \n",
              "1           Pooh Williams          Utah St.   WAC  34     60.9  108.3  14.9   \n",
              "2           Jesus Verdejo     South Florida    BE  27     72.0   96.2  21.8   \n",
              "3         Mike Hornbuckle        Pepperdine   WCC  30     44.5   97.7  16.0   \n",
              "4           Anthony Brown           Pacific    BW  33     56.2   96.5  22.0   \n",
              "...                   ...               ...   ...  ..      ...    ...   ...   \n",
              "61056      Trey Patterson         Villanova    BE   2      0.3   60.5  19.3   \n",
              "61057  Stavros Polatoglou  Northwestern St.  Slnd   4      1.3   28.3   7.1   \n",
              "61058          Sandy Ryan            Tulane  Amer   1      0.1    0.0   0.0   \n",
              "61059           Ty Larson        Texas Tech   B12   1      0.1    0.0   0.0   \n",
              "61060         Jaden Jones           Rutgers   B10   4      1.0   89.6  28.8   \n",
              "\n",
              "        eFG  TS_per  ORB_per  ...      dgbpm    oreb    dreb    treb     ast  \\\n",
              "0      42.5   44.43      1.6  ...  -1.941150  0.1923  0.6154  0.8077  1.1923   \n",
              "1      52.4   54.48      3.8  ...  -0.247934  0.6765  1.2647  1.9412  1.8235   \n",
              "2      45.7   47.98      2.1  ...  -0.883163  0.6296  2.3333  2.9630  1.9630   \n",
              "3      53.6   53.69      4.1  ...  -0.393459  0.7000  1.4333  2.1333  1.1000   \n",
              "4      52.8   54.31      8.3  ...  -0.668318  1.4242  3.3030  4.7273  0.8485   \n",
              "...     ...     ...      ...  ...        ...     ...     ...     ...     ...   \n",
              "61056   0.0    0.00      0.0  ...  16.018200  0.0000  0.0000  0.0000  0.5000   \n",
              "61057   0.0    0.00      7.0  ...  -4.993820  0.2500  0.0000  0.2500  0.0000   \n",
              "61058   0.0    0.00      0.0  ...  -1.126810  0.0000  0.0000  0.0000  0.0000   \n",
              "61059   0.0    0.00      0.0  ...  -2.380750  0.0000  0.0000  0.0000  0.0000   \n",
              "61060  25.0   25.00     10.3  ...  -3.329310  0.2500  0.0000  0.2500  0.7500   \n",
              "\n",
              "          stl     blk      pts  Unnamed: 64  Unnamed: 65  \n",
              "0      0.3462  0.0385   3.8846          NaN      6.22026  \n",
              "1      0.4118  0.2353   5.9412          NaN      3.94375  \n",
              "2      0.4815  0.0000  12.1852          NaN     10.92680  \n",
              "3      0.5667  0.1333   4.9333          NaN      6.77427  \n",
              "4      0.4545  0.3333   7.5758          NaN      0.00000  \n",
              "...       ...     ...      ...          ...          ...  \n",
              "61056  0.5000  0.0000   0.0000      Pure PG      0.00000  \n",
              "61057  0.0000  0.0000   0.0000            C      0.00000  \n",
              "61058  0.0000  0.0000   0.0000         PF/C      0.00000  \n",
              "61059  0.0000  0.0000   0.0000         PF/C      0.00000  \n",
              "61060  0.0000  0.0000   0.7500      Pure PG     10.43920  \n",
              "\n",
              "[61061 rows x 66 columns]"
            ],
            "text/html": [
              "\n",
              "  <div id=\"df-171e4640-3490-4b45-9d4a-967c8101aee3\" class=\"colab-df-container\">\n",
              "    <div>\n",
              "<style scoped>\n",
              "    .dataframe tbody tr th:only-of-type {\n",
              "        vertical-align: middle;\n",
              "    }\n",
              "\n",
              "    .dataframe tbody tr th {\n",
              "        vertical-align: top;\n",
              "    }\n",
              "\n",
              "    .dataframe thead th {\n",
              "        text-align: right;\n",
              "    }\n",
              "</style>\n",
              "<table border=\"1\" class=\"dataframe\">\n",
              "  <thead>\n",
              "    <tr style=\"text-align: right;\">\n",
              "      <th></th>\n",
              "      <th>player_name</th>\n",
              "      <th>team</th>\n",
              "      <th>conf</th>\n",
              "      <th>GP</th>\n",
              "      <th>Min_per</th>\n",
              "      <th>Ortg</th>\n",
              "      <th>usg</th>\n",
              "      <th>eFG</th>\n",
              "      <th>TS_per</th>\n",
              "      <th>ORB_per</th>\n",
              "      <th>...</th>\n",
              "      <th>dgbpm</th>\n",
              "      <th>oreb</th>\n",
              "      <th>dreb</th>\n",
              "      <th>treb</th>\n",
              "      <th>ast</th>\n",
              "      <th>stl</th>\n",
              "      <th>blk</th>\n",
              "      <th>pts</th>\n",
              "      <th>Unnamed: 64</th>\n",
              "      <th>Unnamed: 65</th>\n",
              "    </tr>\n",
              "  </thead>\n",
              "  <tbody>\n",
              "    <tr>\n",
              "      <th>0</th>\n",
              "      <td>DeAndrae Ross</td>\n",
              "      <td>South Alabama</td>\n",
              "      <td>SB</td>\n",
              "      <td>26</td>\n",
              "      <td>29.5</td>\n",
              "      <td>97.3</td>\n",
              "      <td>16.6</td>\n",
              "      <td>42.5</td>\n",
              "      <td>44.43</td>\n",
              "      <td>1.6</td>\n",
              "      <td>...</td>\n",
              "      <td>-1.941150</td>\n",
              "      <td>0.1923</td>\n",
              "      <td>0.6154</td>\n",
              "      <td>0.8077</td>\n",
              "      <td>1.1923</td>\n",
              "      <td>0.3462</td>\n",
              "      <td>0.0385</td>\n",
              "      <td>3.8846</td>\n",
              "      <td>NaN</td>\n",
              "      <td>6.22026</td>\n",
              "    </tr>\n",
              "    <tr>\n",
              "      <th>1</th>\n",
              "      <td>Pooh Williams</td>\n",
              "      <td>Utah St.</td>\n",
              "      <td>WAC</td>\n",
              "      <td>34</td>\n",
              "      <td>60.9</td>\n",
              "      <td>108.3</td>\n",
              "      <td>14.9</td>\n",
              "      <td>52.4</td>\n",
              "      <td>54.48</td>\n",
              "      <td>3.8</td>\n",
              "      <td>...</td>\n",
              "      <td>-0.247934</td>\n",
              "      <td>0.6765</td>\n",
              "      <td>1.2647</td>\n",
              "      <td>1.9412</td>\n",
              "      <td>1.8235</td>\n",
              "      <td>0.4118</td>\n",
              "      <td>0.2353</td>\n",
              "      <td>5.9412</td>\n",
              "      <td>NaN</td>\n",
              "      <td>3.94375</td>\n",
              "    </tr>\n",
              "    <tr>\n",
              "      <th>2</th>\n",
              "      <td>Jesus Verdejo</td>\n",
              "      <td>South Florida</td>\n",
              "      <td>BE</td>\n",
              "      <td>27</td>\n",
              "      <td>72.0</td>\n",
              "      <td>96.2</td>\n",
              "      <td>21.8</td>\n",
              "      <td>45.7</td>\n",
              "      <td>47.98</td>\n",
              "      <td>2.1</td>\n",
              "      <td>...</td>\n",
              "      <td>-0.883163</td>\n",
              "      <td>0.6296</td>\n",
              "      <td>2.3333</td>\n",
              "      <td>2.9630</td>\n",
              "      <td>1.9630</td>\n",
              "      <td>0.4815</td>\n",
              "      <td>0.0000</td>\n",
              "      <td>12.1852</td>\n",
              "      <td>NaN</td>\n",
              "      <td>10.92680</td>\n",
              "    </tr>\n",
              "    <tr>\n",
              "      <th>3</th>\n",
              "      <td>Mike Hornbuckle</td>\n",
              "      <td>Pepperdine</td>\n",
              "      <td>WCC</td>\n",
              "      <td>30</td>\n",
              "      <td>44.5</td>\n",
              "      <td>97.7</td>\n",
              "      <td>16.0</td>\n",
              "      <td>53.6</td>\n",
              "      <td>53.69</td>\n",
              "      <td>4.1</td>\n",
              "      <td>...</td>\n",
              "      <td>-0.393459</td>\n",
              "      <td>0.7000</td>\n",
              "      <td>1.4333</td>\n",
              "      <td>2.1333</td>\n",
              "      <td>1.1000</td>\n",
              "      <td>0.5667</td>\n",
              "      <td>0.1333</td>\n",
              "      <td>4.9333</td>\n",
              "      <td>NaN</td>\n",
              "      <td>6.77427</td>\n",
              "    </tr>\n",
              "    <tr>\n",
              "      <th>4</th>\n",
              "      <td>Anthony Brown</td>\n",
              "      <td>Pacific</td>\n",
              "      <td>BW</td>\n",
              "      <td>33</td>\n",
              "      <td>56.2</td>\n",
              "      <td>96.5</td>\n",
              "      <td>22.0</td>\n",
              "      <td>52.8</td>\n",
              "      <td>54.31</td>\n",
              "      <td>8.3</td>\n",
              "      <td>...</td>\n",
              "      <td>-0.668318</td>\n",
              "      <td>1.4242</td>\n",
              "      <td>3.3030</td>\n",
              "      <td>4.7273</td>\n",
              "      <td>0.8485</td>\n",
              "      <td>0.4545</td>\n",
              "      <td>0.3333</td>\n",
              "      <td>7.5758</td>\n",
              "      <td>NaN</td>\n",
              "      <td>0.00000</td>\n",
              "    </tr>\n",
              "    <tr>\n",
              "      <th>...</th>\n",
              "      <td>...</td>\n",
              "      <td>...</td>\n",
              "      <td>...</td>\n",
              "      <td>...</td>\n",
              "      <td>...</td>\n",
              "      <td>...</td>\n",
              "      <td>...</td>\n",
              "      <td>...</td>\n",
              "      <td>...</td>\n",
              "      <td>...</td>\n",
              "      <td>...</td>\n",
              "      <td>...</td>\n",
              "      <td>...</td>\n",
              "      <td>...</td>\n",
              "      <td>...</td>\n",
              "      <td>...</td>\n",
              "      <td>...</td>\n",
              "      <td>...</td>\n",
              "      <td>...</td>\n",
              "      <td>...</td>\n",
              "      <td>...</td>\n",
              "    </tr>\n",
              "    <tr>\n",
              "      <th>61056</th>\n",
              "      <td>Trey Patterson</td>\n",
              "      <td>Villanova</td>\n",
              "      <td>BE</td>\n",
              "      <td>2</td>\n",
              "      <td>0.3</td>\n",
              "      <td>60.5</td>\n",
              "      <td>19.3</td>\n",
              "      <td>0.0</td>\n",
              "      <td>0.00</td>\n",
              "      <td>0.0</td>\n",
              "      <td>...</td>\n",
              "      <td>16.018200</td>\n",
              "      <td>0.0000</td>\n",
              "      <td>0.0000</td>\n",
              "      <td>0.0000</td>\n",
              "      <td>0.5000</td>\n",
              "      <td>0.5000</td>\n",
              "      <td>0.0000</td>\n",
              "      <td>0.0000</td>\n",
              "      <td>Pure PG</td>\n",
              "      <td>0.00000</td>\n",
              "    </tr>\n",
              "    <tr>\n",
              "      <th>61057</th>\n",
              "      <td>Stavros Polatoglou</td>\n",
              "      <td>Northwestern St.</td>\n",
              "      <td>Slnd</td>\n",
              "      <td>4</td>\n",
              "      <td>1.3</td>\n",
              "      <td>28.3</td>\n",
              "      <td>7.1</td>\n",
              "      <td>0.0</td>\n",
              "      <td>0.00</td>\n",
              "      <td>7.0</td>\n",
              "      <td>...</td>\n",
              "      <td>-4.993820</td>\n",
              "      <td>0.2500</td>\n",
              "      <td>0.0000</td>\n",
              "      <td>0.2500</td>\n",
              "      <td>0.0000</td>\n",
              "      <td>0.0000</td>\n",
              "      <td>0.0000</td>\n",
              "      <td>0.0000</td>\n",
              "      <td>C</td>\n",
              "      <td>0.00000</td>\n",
              "    </tr>\n",
              "    <tr>\n",
              "      <th>61058</th>\n",
              "      <td>Sandy Ryan</td>\n",
              "      <td>Tulane</td>\n",
              "      <td>Amer</td>\n",
              "      <td>1</td>\n",
              "      <td>0.1</td>\n",
              "      <td>0.0</td>\n",
              "      <td>0.0</td>\n",
              "      <td>0.0</td>\n",
              "      <td>0.00</td>\n",
              "      <td>0.0</td>\n",
              "      <td>...</td>\n",
              "      <td>-1.126810</td>\n",
              "      <td>0.0000</td>\n",
              "      <td>0.0000</td>\n",
              "      <td>0.0000</td>\n",
              "      <td>0.0000</td>\n",
              "      <td>0.0000</td>\n",
              "      <td>0.0000</td>\n",
              "      <td>0.0000</td>\n",
              "      <td>PF/C</td>\n",
              "      <td>0.00000</td>\n",
              "    </tr>\n",
              "    <tr>\n",
              "      <th>61059</th>\n",
              "      <td>Ty Larson</td>\n",
              "      <td>Texas Tech</td>\n",
              "      <td>B12</td>\n",
              "      <td>1</td>\n",
              "      <td>0.1</td>\n",
              "      <td>0.0</td>\n",
              "      <td>0.0</td>\n",
              "      <td>0.0</td>\n",
              "      <td>0.00</td>\n",
              "      <td>0.0</td>\n",
              "      <td>...</td>\n",
              "      <td>-2.380750</td>\n",
              "      <td>0.0000</td>\n",
              "      <td>0.0000</td>\n",
              "      <td>0.0000</td>\n",
              "      <td>0.0000</td>\n",
              "      <td>0.0000</td>\n",
              "      <td>0.0000</td>\n",
              "      <td>0.0000</td>\n",
              "      <td>PF/C</td>\n",
              "      <td>0.00000</td>\n",
              "    </tr>\n",
              "    <tr>\n",
              "      <th>61060</th>\n",
              "      <td>Jaden Jones</td>\n",
              "      <td>Rutgers</td>\n",
              "      <td>B10</td>\n",
              "      <td>4</td>\n",
              "      <td>1.0</td>\n",
              "      <td>89.6</td>\n",
              "      <td>28.8</td>\n",
              "      <td>25.0</td>\n",
              "      <td>25.00</td>\n",
              "      <td>10.3</td>\n",
              "      <td>...</td>\n",
              "      <td>-3.329310</td>\n",
              "      <td>0.2500</td>\n",
              "      <td>0.0000</td>\n",
              "      <td>0.2500</td>\n",
              "      <td>0.7500</td>\n",
              "      <td>0.0000</td>\n",
              "      <td>0.0000</td>\n",
              "      <td>0.7500</td>\n",
              "      <td>Pure PG</td>\n",
              "      <td>10.43920</td>\n",
              "    </tr>\n",
              "  </tbody>\n",
              "</table>\n",
              "<p>61061 rows × 66 columns</p>\n",
              "</div>\n",
              "    <div class=\"colab-df-buttons\">\n",
              "\n",
              "  <div class=\"colab-df-container\">\n",
              "    <button class=\"colab-df-convert\" onclick=\"convertToInteractive('df-171e4640-3490-4b45-9d4a-967c8101aee3')\"\n",
              "            title=\"Convert this dataframe to an interactive table.\"\n",
              "            style=\"display:none;\">\n",
              "\n",
              "  <svg xmlns=\"http://www.w3.org/2000/svg\" height=\"24px\" viewBox=\"0 -960 960 960\">\n",
              "    <path d=\"M120-120v-720h720v720H120Zm60-500h600v-160H180v160Zm220 220h160v-160H400v160Zm0 220h160v-160H400v160ZM180-400h160v-160H180v160Zm440 0h160v-160H620v160ZM180-180h160v-160H180v160Zm440 0h160v-160H620v160Z\"/>\n",
              "  </svg>\n",
              "    </button>\n",
              "\n",
              "  <style>\n",
              "    .colab-df-container {\n",
              "      display:flex;\n",
              "      gap: 12px;\n",
              "    }\n",
              "\n",
              "    .colab-df-convert {\n",
              "      background-color: #E8F0FE;\n",
              "      border: none;\n",
              "      border-radius: 50%;\n",
              "      cursor: pointer;\n",
              "      display: none;\n",
              "      fill: #1967D2;\n",
              "      height: 32px;\n",
              "      padding: 0 0 0 0;\n",
              "      width: 32px;\n",
              "    }\n",
              "\n",
              "    .colab-df-convert:hover {\n",
              "      background-color: #E2EBFA;\n",
              "      box-shadow: 0px 1px 2px rgba(60, 64, 67, 0.3), 0px 1px 3px 1px rgba(60, 64, 67, 0.15);\n",
              "      fill: #174EA6;\n",
              "    }\n",
              "\n",
              "    .colab-df-buttons div {\n",
              "      margin-bottom: 4px;\n",
              "    }\n",
              "\n",
              "    [theme=dark] .colab-df-convert {\n",
              "      background-color: #3B4455;\n",
              "      fill: #D2E3FC;\n",
              "    }\n",
              "\n",
              "    [theme=dark] .colab-df-convert:hover {\n",
              "      background-color: #434B5C;\n",
              "      box-shadow: 0px 1px 3px 1px rgba(0, 0, 0, 0.15);\n",
              "      filter: drop-shadow(0px 1px 2px rgba(0, 0, 0, 0.3));\n",
              "      fill: #FFFFFF;\n",
              "    }\n",
              "  </style>\n",
              "\n",
              "    <script>\n",
              "      const buttonEl =\n",
              "        document.querySelector('#df-171e4640-3490-4b45-9d4a-967c8101aee3 button.colab-df-convert');\n",
              "      buttonEl.style.display =\n",
              "        google.colab.kernel.accessAllowed ? 'block' : 'none';\n",
              "\n",
              "      async function convertToInteractive(key) {\n",
              "        const element = document.querySelector('#df-171e4640-3490-4b45-9d4a-967c8101aee3');\n",
              "        const dataTable =\n",
              "          await google.colab.kernel.invokeFunction('convertToInteractive',\n",
              "                                                    [key], {});\n",
              "        if (!dataTable) return;\n",
              "\n",
              "        const docLinkHtml = 'Like what you see? Visit the ' +\n",
              "          '<a target=\"_blank\" href=https://colab.research.google.com/notebooks/data_table.ipynb>data table notebook</a>'\n",
              "          + ' to learn more about interactive tables.';\n",
              "        element.innerHTML = '';\n",
              "        dataTable['output_type'] = 'display_data';\n",
              "        await google.colab.output.renderOutput(dataTable, element);\n",
              "        const docLink = document.createElement('div');\n",
              "        docLink.innerHTML = docLinkHtml;\n",
              "        element.appendChild(docLink);\n",
              "      }\n",
              "    </script>\n",
              "  </div>\n",
              "\n",
              "\n",
              "<div id=\"df-f00f76de-da18-4542-ad51-669cee17770e\">\n",
              "  <button class=\"colab-df-quickchart\" onclick=\"quickchart('df-f00f76de-da18-4542-ad51-669cee17770e')\"\n",
              "            title=\"Suggest charts\"\n",
              "            style=\"display:none;\">\n",
              "\n",
              "<svg xmlns=\"http://www.w3.org/2000/svg\" height=\"24px\"viewBox=\"0 0 24 24\"\n",
              "     width=\"24px\">\n",
              "    <g>\n",
              "        <path d=\"M19 3H5c-1.1 0-2 .9-2 2v14c0 1.1.9 2 2 2h14c1.1 0 2-.9 2-2V5c0-1.1-.9-2-2-2zM9 17H7v-7h2v7zm4 0h-2V7h2v10zm4 0h-2v-4h2v4z\"/>\n",
              "    </g>\n",
              "</svg>\n",
              "  </button>\n",
              "\n",
              "<style>\n",
              "  .colab-df-quickchart {\n",
              "      --bg-color: #E8F0FE;\n",
              "      --fill-color: #1967D2;\n",
              "      --hover-bg-color: #E2EBFA;\n",
              "      --hover-fill-color: #174EA6;\n",
              "      --disabled-fill-color: #AAA;\n",
              "      --disabled-bg-color: #DDD;\n",
              "  }\n",
              "\n",
              "  [theme=dark] .colab-df-quickchart {\n",
              "      --bg-color: #3B4455;\n",
              "      --fill-color: #D2E3FC;\n",
              "      --hover-bg-color: #434B5C;\n",
              "      --hover-fill-color: #FFFFFF;\n",
              "      --disabled-bg-color: #3B4455;\n",
              "      --disabled-fill-color: #666;\n",
              "  }\n",
              "\n",
              "  .colab-df-quickchart {\n",
              "    background-color: var(--bg-color);\n",
              "    border: none;\n",
              "    border-radius: 50%;\n",
              "    cursor: pointer;\n",
              "    display: none;\n",
              "    fill: var(--fill-color);\n",
              "    height: 32px;\n",
              "    padding: 0;\n",
              "    width: 32px;\n",
              "  }\n",
              "\n",
              "  .colab-df-quickchart:hover {\n",
              "    background-color: var(--hover-bg-color);\n",
              "    box-shadow: 0 1px 2px rgba(60, 64, 67, 0.3), 0 1px 3px 1px rgba(60, 64, 67, 0.15);\n",
              "    fill: var(--button-hover-fill-color);\n",
              "  }\n",
              "\n",
              "  .colab-df-quickchart-complete:disabled,\n",
              "  .colab-df-quickchart-complete:disabled:hover {\n",
              "    background-color: var(--disabled-bg-color);\n",
              "    fill: var(--disabled-fill-color);\n",
              "    box-shadow: none;\n",
              "  }\n",
              "\n",
              "  .colab-df-spinner {\n",
              "    border: 2px solid var(--fill-color);\n",
              "    border-color: transparent;\n",
              "    border-bottom-color: var(--fill-color);\n",
              "    animation:\n",
              "      spin 1s steps(1) infinite;\n",
              "  }\n",
              "\n",
              "  @keyframes spin {\n",
              "    0% {\n",
              "      border-color: transparent;\n",
              "      border-bottom-color: var(--fill-color);\n",
              "      border-left-color: var(--fill-color);\n",
              "    }\n",
              "    20% {\n",
              "      border-color: transparent;\n",
              "      border-left-color: var(--fill-color);\n",
              "      border-top-color: var(--fill-color);\n",
              "    }\n",
              "    30% {\n",
              "      border-color: transparent;\n",
              "      border-left-color: var(--fill-color);\n",
              "      border-top-color: var(--fill-color);\n",
              "      border-right-color: var(--fill-color);\n",
              "    }\n",
              "    40% {\n",
              "      border-color: transparent;\n",
              "      border-right-color: var(--fill-color);\n",
              "      border-top-color: var(--fill-color);\n",
              "    }\n",
              "    60% {\n",
              "      border-color: transparent;\n",
              "      border-right-color: var(--fill-color);\n",
              "    }\n",
              "    80% {\n",
              "      border-color: transparent;\n",
              "      border-right-color: var(--fill-color);\n",
              "      border-bottom-color: var(--fill-color);\n",
              "    }\n",
              "    90% {\n",
              "      border-color: transparent;\n",
              "      border-bottom-color: var(--fill-color);\n",
              "    }\n",
              "  }\n",
              "</style>\n",
              "\n",
              "  <script>\n",
              "    async function quickchart(key) {\n",
              "      const quickchartButtonEl =\n",
              "        document.querySelector('#' + key + ' button');\n",
              "      quickchartButtonEl.disabled = true;  // To prevent multiple clicks.\n",
              "      quickchartButtonEl.classList.add('colab-df-spinner');\n",
              "      try {\n",
              "        const charts = await google.colab.kernel.invokeFunction(\n",
              "            'suggestCharts', [key], {});\n",
              "      } catch (error) {\n",
              "        console.error('Error during call to suggestCharts:', error);\n",
              "      }\n",
              "      quickchartButtonEl.classList.remove('colab-df-spinner');\n",
              "      quickchartButtonEl.classList.add('colab-df-quickchart-complete');\n",
              "    }\n",
              "    (() => {\n",
              "      let quickchartButtonEl =\n",
              "        document.querySelector('#df-f00f76de-da18-4542-ad51-669cee17770e button');\n",
              "      quickchartButtonEl.style.display =\n",
              "        google.colab.kernel.accessAllowed ? 'block' : 'none';\n",
              "    })();\n",
              "  </script>\n",
              "</div>\n",
              "    </div>\n",
              "  </div>\n"
            ],
            "application/vnd.google.colaboratory.intrinsic+json": {
              "type": "dataframe",
              "variable_name": "df"
            }
          },
          "metadata": {},
          "execution_count": 2
        }
      ],
      "source": [
        "#uploading the dataset\n",
        "df = pd.read_csv('https://raw.githubusercontent.com/zackbatch/BA820-Project/main/CollegeBasketballPlayers2009-2021.csv')\n",
        "df"
      ]
    },
    {
      "cell_type": "code",
      "source": [
        "dftext = pd.read_csv(\"https://raw.githubusercontent.com/zackbatch/BA820-Project/main/Instant%20Analysis%20Draft%3B%202020-2021.csv\")"
      ],
      "metadata": {
        "id": "MJhdigV5aubn"
      },
      "execution_count": null,
      "outputs": []
    },
    {
      "cell_type": "markdown",
      "metadata": {
        "id": "Frzp80PuPhAF"
      },
      "source": [
        "# **Data Preparation**"
      ]
    },
    {
      "cell_type": "markdown",
      "metadata": {
        "id": "vjHoh0ZDmztS"
      },
      "source": [
        "##Preprocessing"
      ]
    },
    {
      "cell_type": "code",
      "execution_count": null,
      "metadata": {
        "id": "OcRAOytAH-Kx"
      },
      "outputs": [],
      "source": [
        "#renaming the column names\n",
        "column_mapping = {\n",
        "    'player_name': 'player_name',\n",
        "    'team': 'team',\n",
        "    'conf': 'conference',\n",
        "    'GP': 'games_played',\n",
        "    'Min_per': 'min_per',\n",
        "    'Ortg': 'offensive_rating',\n",
        "    'usg': 'usage',\n",
        "    'eFG': 'effective_field_goal_%',\n",
        "    'TS_per': 'true_shooting_%',\n",
        "    'ORB_per': 'offensive_rebound_%',\n",
        "    'DRB_per': 'defensive_rebound_%',\n",
        "    'AST_per': 'assist_%',\n",
        "    'TO_per': 'turnover_%',\n",
        "    'FTM': 'free_throws_made',\n",
        "    'FTA': 'free_throws_attempted',\n",
        "    'FT_per': 'free_throws_%',\n",
        "    'twoPM': '2-pointers_made',\n",
        "    'twoPA': '2-pointers_attempted',\n",
        "    'twoP_per': '2-pointers_%',\n",
        "    'TPM': '3-pointers_made',\n",
        "    'TPA': '3-pointers_attempted',\n",
        "    'TP_per': '3-pointers_%',\n",
        "    'blk_per': 'Block_%',\n",
        "    'stl_per': 'Steal_%',\n",
        "    'ftr': 'free_throw_rate',\n",
        "    'yr': 'year_of_college',\n",
        "    'ht': 'ht',\n",
        "    'num': 'num',\n",
        "    'porpag': 'Pointers_over_replacement_per_adjusted_game',\n",
        "    'adjoe': 'Adjusted_offensive_efficiency',\n",
        "    'pfr': 'pfr',\n",
        "    'year': 'year',\n",
        "    'pid': 'Player_ID_(recurring for each year)',\n",
        "    'type': 'Type',\n",
        "    'Rec Rank': 'Recruit_Rank',\n",
        "    'ast/tov': 'Assist / Turnover ratio',\n",
        "    'rimmade': 'Rim_shots_made',\n",
        "    'rimmade+rimmiss': 'Rim-shots_attempted',\n",
        "    'midmade': 'Midrange_shots_made',\n",
        "    'midmade+midmiss': 'Midrange_shots_attempted',\n",
        "    'rimmade/(rimmade+rimmiss)': 'Rim_shots %',\n",
        "    'midmade/(midmade+midmiss)': 'Midrange_shots %',\n",
        "    'dunksmade': 'Dunks_made',\n",
        "    'dunksmiss+dunksmade': 'Dunks_attempted',\n",
        "    'dunksmade/(dunksmade+dunksmiss)': 'Dunks %',\n",
        "    'pick': 'Pick_drafted',\n",
        "    'drtg': 'Defensive_rating',\n",
        "    'adrtg': 'Adjusted_defensive_rating',\n",
        "    'dporpag': 'Defensive_points_over_replacement_per_adjusted_game',\n",
        "    'stops': 'Stops',\n",
        "    'bpm': 'Box plus/minus',\n",
        "    'obpm': 'Offensive box plus/minus',\n",
        "    'dbpm': 'Defensive box plus/minus',\n",
        "    'gbpm': 'gbpm',\n",
        "    'mp': 'Minutes_played',\n",
        "    'ogbpm': 'Offensive_gbpm',\n",
        "    'dgbpm': 'Defensive_gbpm',\n",
        "    'oreb': 'Offensive_rebounds',\n",
        "    'dreb': 'Defensive_rebounds',\n",
        "    'treb': 'Total_rebounds',\n",
        "    'ast': 'Assists',\n",
        "    'stl': 'Steals',\n",
        "    'blk': 'Blocks',\n",
        "    'pts': 'Points',\n",
        "    'Unnamed: 64': 'Role/Position',\n",
        "    'Unnamed: 65': 'Unnamed: 65'\n",
        "}\n",
        "\n",
        "df.rename(columns=column_mapping, inplace=True)\n"
      ]
    },
    {
      "cell_type": "code",
      "execution_count": null,
      "metadata": {
        "colab": {
          "base_uri": "https://localhost:8080/"
        },
        "id": "SJ5dpiW3C0zs",
        "outputId": "fadbead0-0e39-4bd0-b950-858e538e84d5"
      },
      "outputs": [
        {
          "output_type": "stream",
          "name": "stdout",
          "text": [
            "<class 'pandas.core.frame.DataFrame'>\n",
            "RangeIndex: 61061 entries, 0 to 61060\n",
            "Data columns (total 66 columns):\n",
            " #   Column                                               Non-Null Count  Dtype  \n",
            "---  ------                                               --------------  -----  \n",
            " 0   player_name                                          61061 non-null  object \n",
            " 1   team                                                 61061 non-null  object \n",
            " 2   conference                                           61061 non-null  object \n",
            " 3   games_played                                         61061 non-null  int64  \n",
            " 4   min_per                                              61061 non-null  float64\n",
            " 5   offensive_rating                                     61061 non-null  float64\n",
            " 6   usage                                                61061 non-null  float64\n",
            " 7   effective_field_goal_%                               61061 non-null  float64\n",
            " 8   true_shooting_%                                      61061 non-null  float64\n",
            " 9   offensive_rebound_%                                  61061 non-null  float64\n",
            " 10  defensive_rebound_%                                  61061 non-null  float64\n",
            " 11  assist_%                                             61061 non-null  float64\n",
            " 12  turnover_%                                           61061 non-null  float64\n",
            " 13  free_throws_made                                     61061 non-null  int64  \n",
            " 14  free_throws_attempted                                61061 non-null  int64  \n",
            " 15  free_throws_%                                        61061 non-null  float64\n",
            " 16  2-pointers_made                                      61061 non-null  int64  \n",
            " 17  2-pointers_attempted                                 61061 non-null  int64  \n",
            " 18  2-pointers_%                                         61061 non-null  float64\n",
            " 19  3-pointers_made                                      61061 non-null  int64  \n",
            " 20  3-pointers_attempted                                 61061 non-null  int64  \n",
            " 21  3-pointers_%                                         61061 non-null  float64\n",
            " 22  Block_%                                              61061 non-null  float64\n",
            " 23  Steal_%                                              61061 non-null  float64\n",
            " 24  free_throw_rate                                      61061 non-null  float64\n",
            " 25  year_of_college                                      60787 non-null  object \n",
            " 26  ht                                                   60975 non-null  object \n",
            " 27  num                                                  56304 non-null  object \n",
            " 28  Pointers_over_replacement_per_adjusted_game          61061 non-null  float64\n",
            " 29  Adjusted_offensive_efficiency                        61061 non-null  float64\n",
            " 30  pfr                                                  61061 non-null  float64\n",
            " 31  year                                                 61061 non-null  int64  \n",
            " 32  Player_ID_(recurring for each year)                  61061 non-null  int64  \n",
            " 33  Type                                                 61061 non-null  object \n",
            " 34  Recruit_Rank                                         18470 non-null  float64\n",
            " 35  Assist / Turnover ratio                              56334 non-null  float64\n",
            " 36  Rim_shots_made                                       54732 non-null  float64\n",
            " 37  Rim-shots_attempted                                  54732 non-null  float64\n",
            " 38  Midrange_shots_made                                  54732 non-null  float64\n",
            " 39  Midrange_shots_attempted                             54732 non-null  float64\n",
            " 40  Rim_shots %                                          50951 non-null  float64\n",
            " 41  Midrange_shots %                                     50676 non-null  float64\n",
            " 42  Dunks_made                                           54732 non-null  float64\n",
            " 43  Dunks_attempted                                      54732 non-null  float64\n",
            " 44  Dunks %                                              27551 non-null  float64\n",
            " 45  Pick_drafted                                         1435 non-null   float64\n",
            " 46  Defensive_rating                                     61016 non-null  float64\n",
            " 47  Adjusted_defensive_rating                            61016 non-null  float64\n",
            " 48  Defensive_points_over_replacement_per_adjusted_game  61016 non-null  float64\n",
            " 49  Stops                                                61016 non-null  float64\n",
            " 50  Box plus/minus                                       61016 non-null  float64\n",
            " 51  Offensive box plus/minus                             61016 non-null  float64\n",
            " 52  Defensive box plus/minus                             61016 non-null  float64\n",
            " 53  gbpm                                                 61016 non-null  float64\n",
            " 54  Minutes_played                                       61023 non-null  float64\n",
            " 55  Offensive_gbpm                                       61016 non-null  float64\n",
            " 56  Defensive_gbpm                                       61016 non-null  float64\n",
            " 57  Offensive_rebounds                                   61023 non-null  float64\n",
            " 58  Defensive_rebounds                                   61023 non-null  float64\n",
            " 59  Total_rebounds                                       61023 non-null  float64\n",
            " 60  Assists                                              61023 non-null  float64\n",
            " 61  Steals                                               61023 non-null  float64\n",
            " 62  Blocks                                               61023 non-null  float64\n",
            " 63  Points                                               61023 non-null  float64\n",
            " 64  Role/Position                                        56377 non-null  object \n",
            " 65  Unnamed: 65                                          61016 non-null  float64\n",
            "dtypes: float64(49), int64(9), object(8)\n",
            "memory usage: 30.7+ MB\n"
          ]
        }
      ],
      "source": [
        "#overview of the columns\n",
        "df.info()"
      ]
    },
    {
      "cell_type": "code",
      "execution_count": null,
      "metadata": {
        "colab": {
          "base_uri": "https://localhost:8080/"
        },
        "id": "WCHAwgUefrVq",
        "outputId": "6e1a275a-d227-4103-db56-b954729a5c61"
      },
      "outputs": [
        {
          "output_type": "execute_result",
          "data": {
            "text/plain": [
              "630"
            ]
          },
          "metadata": {},
          "execution_count": 5
        }
      ],
      "source": [
        "#checking for unique values in pick drafted\n",
        "dfdraft = df.copy()\n",
        "dfdraft = dfdraft[dfdraft['Pick_drafted'].notna()]\n",
        "dfdraft['Player_ID_(recurring for each year)'].nunique()"
      ]
    },
    {
      "cell_type": "markdown",
      "metadata": {
        "id": "r1Sne5FLNeV4"
      },
      "source": [
        "**1. year_of_college**"
      ]
    },
    {
      "cell_type": "code",
      "execution_count": null,
      "metadata": {
        "colab": {
          "base_uri": "https://localhost:8080/"
        },
        "id": "9Zk63LekUpo0",
        "outputId": "95dcf9a8-ce6f-4831-939d-00505888ee44"
      },
      "outputs": [
        {
          "output_type": "execute_result",
          "data": {
            "text/plain": [
              "array(['So', 'Sr', 'Jr', 'Fr', '0', nan, '57.1', '42.9', 'None'],\n",
              "      dtype=object)"
            ]
          },
          "metadata": {},
          "execution_count": 6
        }
      ],
      "source": [
        "df['year_of_college'].unique()"
      ]
    },
    {
      "cell_type": "code",
      "execution_count": null,
      "metadata": {
        "id": "MR5bLqiJVMvu"
      },
      "outputs": [],
      "source": [
        "#dropping year of college ~ 0.044% of the data being dropped\n",
        "drop = ['None', '0', '57.1', '42.9']\n",
        "df = df[~df['year_of_college'].isin(drop)]\n"
      ]
    },
    {
      "cell_type": "code",
      "execution_count": null,
      "metadata": {
        "colab": {
          "base_uri": "https://localhost:8080/"
        },
        "id": "QjBrPzXGVqWy",
        "outputId": "9357b3b7-e823-4667-97a8-74962e2fc4b3"
      },
      "outputs": [
        {
          "output_type": "execute_result",
          "data": {
            "text/plain": [
              "274"
            ]
          },
          "metadata": {},
          "execution_count": 8
        }
      ],
      "source": [
        "#checking for null values\n",
        "df['year_of_college'].isna().sum()"
      ]
    },
    {
      "cell_type": "code",
      "execution_count": null,
      "metadata": {
        "colab": {
          "base_uri": "https://localhost:8080/"
        },
        "id": "SJ2v2JgZ_sIq",
        "outputId": "095dfde6-42b1-4413-9c64-db43f76e2dc6"
      },
      "outputs": [
        {
          "output_type": "stream",
          "name": "stderr",
          "text": [
            "<ipython-input-9-ed5a7f58cfee>:1: SettingWithCopyWarning: \n",
            "A value is trying to be set on a copy of a slice from a DataFrame\n",
            "\n",
            "See the caveats in the documentation: https://pandas.pydata.org/pandas-docs/stable/user_guide/indexing.html#returning-a-view-versus-a-copy\n",
            "  df.dropna(subset=['year_of_college'], inplace=True)\n"
          ]
        }
      ],
      "source": [
        "df.dropna(subset=['year_of_college'], inplace=True)\n"
      ]
    },
    {
      "cell_type": "markdown",
      "metadata": {
        "id": "a3OzVKQLGFyc"
      },
      "source": [
        "**2. HT: Dropping the column since it does not provide any relevant player performance information**\n"
      ]
    },
    {
      "cell_type": "code",
      "execution_count": null,
      "metadata": {
        "colab": {
          "base_uri": "https://localhost:8080/"
        },
        "id": "uClgOGrwGHgW",
        "outputId": "2cabdbe2-41fd-4037-eca8-a1d156255820"
      },
      "outputs": [
        {
          "output_type": "stream",
          "name": "stderr",
          "text": [
            "<ipython-input-10-48fe64262b7f>:2: SettingWithCopyWarning: \n",
            "A value is trying to be set on a copy of a slice from a DataFrame\n",
            "\n",
            "See the caveats in the documentation: https://pandas.pydata.org/pandas-docs/stable/user_guide/indexing.html#returning-a-view-versus-a-copy\n",
            "  df.drop(columns=['ht'], inplace=True)\n"
          ]
        }
      ],
      "source": [
        "#dropping ht column since its not of relevance to us\n",
        "df.drop(columns=['ht'], inplace=True)\n"
      ]
    },
    {
      "cell_type": "markdown",
      "metadata": {
        "id": "e2DCVpq_G3T1"
      },
      "source": [
        "**3. Num: Assuming it is the jersey number we decide to appoint jersey numbers for each team that have not been already taken**"
      ]
    },
    {
      "cell_type": "code",
      "execution_count": null,
      "metadata": {
        "colab": {
          "base_uri": "https://localhost:8080/"
        },
        "id": "ujHQv42hP-0S",
        "outputId": "0430e531-e1b5-435c-df34-e376a6a622cc"
      },
      "outputs": [
        {
          "output_type": "execute_result",
          "data": {
            "text/plain": [
              "array([nan, '53', '5', '14', '22', '20', '34', '24', '54', '15', '13',\n",
              "       '10', '21', '32', '12', '51', '31', '33', '1', '45', '50', '3',\n",
              "       '23', '2', '4', '55', '35', '42', '25', '41', '52', '11', '40',\n",
              "       '30', '43', '0', '44', '23B', 'None', '26', '99', '4A', '31/24',\n",
              "       '--', 10.0, 22.0, 3.0, 23.0, 30.0, 13.0, 15.0, 1.0, 5.0, 35.0, 2.0,\n",
              "       32.0, 11.0, 0.0, 40.0, 33.0, 4.0, 12.0, 20.0, 50.0, 25.0, 44.0,\n",
              "       21.0, 31.0, 14.0, 34.0, 24.0, 55.0, 45.0, 52.0, 51.0, 41.0, 54.0,\n",
              "       42.0, 43.0, 53.0], dtype=object)"
            ]
          },
          "metadata": {},
          "execution_count": 11
        }
      ],
      "source": [
        "#checking for unique values in num column\n",
        "df[\"num\"].unique()"
      ]
    },
    {
      "cell_type": "code",
      "execution_count": null,
      "metadata": {
        "colab": {
          "base_uri": "https://localhost:8080/"
        },
        "id": "4FGWdtQ2RIc0",
        "outputId": "a10a24e4-e6fe-48ec-81d0-7d1d6c9a77fe"
      },
      "outputs": [
        {
          "output_type": "stream",
          "name": "stdout",
          "text": [
            "[nan '53' '5' '14' '22' '20' '34' '24' '54' '15' '13' '10' '21' '32' '12'\n",
            " '51' '31' '33' '1' '45' '50' '3' '23' '2' '4' '55' '35' '42' '25' '41'\n",
            " '52' '11' '40' '30' '43' '0' '44' '26' '99' 10.0 22.0 3.0 23.0 30.0 13.0\n",
            " 15.0 1.0 5.0 35.0 2.0 32.0 11.0 0.0 40.0 33.0 4.0 12.0 20.0 50.0 25.0\n",
            " 44.0 21.0 31.0 14.0 34.0 24.0 55.0 45.0 52.0 51.0 41.0 54.0 42.0 43.0\n",
            " 53.0]\n"
          ]
        },
        {
          "output_type": "stream",
          "name": "stderr",
          "text": [
            "<ipython-input-12-b5e5f933b532>:4: SettingWithCopyWarning: \n",
            "A value is trying to be set on a copy of a slice from a DataFrame.\n",
            "Try using .loc[row_indexer,col_indexer] = value instead\n",
            "\n",
            "See the caveats in the documentation: https://pandas.pydata.org/pandas-docs/stable/user_guide/indexing.html#returning-a-view-versus-a-copy\n",
            "  df['num'] = df['num'].replace(non_numeric_values, np.nan)\n"
          ]
        }
      ],
      "source": [
        "#replacing irregular values to nan\n",
        "non_numeric_values = ['None', '--', '23B', '4A', '31/24']\n",
        "\n",
        "df['num'] = df['num'].replace(non_numeric_values, np.nan)\n",
        "\n",
        "# Check unique values again\n",
        "print(df['num'].unique())\n"
      ]
    },
    {
      "cell_type": "code",
      "execution_count": null,
      "metadata": {
        "colab": {
          "base_uri": "https://localhost:8080/"
        },
        "id": "WuYY7JENO7S_",
        "outputId": "11bd959f-08c1-4362-d3ba-e4d6887a5360"
      },
      "outputs": [
        {
          "output_type": "stream",
          "name": "stderr",
          "text": [
            "<ipython-input-13-4a670511c9c9>:5: SettingWithCopyWarning: \n",
            "A value is trying to be set on a copy of a slice from a DataFrame.\n",
            "Try using .loc[row_indexer,col_indexer] = value instead\n",
            "\n",
            "See the caveats in the documentation: https://pandas.pydata.org/pandas-docs/stable/user_guide/indexing.html#returning-a-view-versus-a-copy\n",
            "  df['num'] = df['num'].fillna(np.nan)\n"
          ]
        }
      ],
      "source": [
        "#appoint jersey numbers for each team that have not been already taken\n",
        "import numpy as np\n",
        "\n",
        "# Fill null values in 'num' column with NaN\n",
        "df['num'] = df['num'].fillna(np.nan)\n",
        "\n",
        "# Group by team and fill null values with NaN if no numbers available\n",
        "for team, group in df.groupby('team'):\n",
        "    team_numbers = set(group['num'].dropna().unique())\n",
        "    available_numbers = [num for num in range(1, 101) if num not in team_numbers]\n",
        "    df.loc[group.index, 'num'] = group['num'].apply(lambda x: x if pd.notnull(x) else next(iter(available_numbers), np.nan))\n",
        "\n",
        "\n",
        "\n",
        "\n",
        "\n",
        "\n"
      ]
    },
    {
      "cell_type": "markdown",
      "metadata": {
        "id": "cJarDKw2MrXH"
      },
      "source": [
        "**4. Recruit Ranker**"
      ]
    },
    {
      "cell_type": "code",
      "execution_count": null,
      "metadata": {
        "colab": {
          "base_uri": "https://localhost:8080/"
        },
        "id": "_DNyRETbMw1q",
        "outputId": "f09d198d-278f-420d-a799-37d387c44997"
      },
      "outputs": [
        {
          "output_type": "stream",
          "name": "stderr",
          "text": [
            "<ipython-input-14-0781cde73ee0>:3: SettingWithCopyWarning: \n",
            "A value is trying to be set on a copy of a slice from a DataFrame\n",
            "\n",
            "See the caveats in the documentation: https://pandas.pydata.org/pandas-docs/stable/user_guide/indexing.html#returning-a-view-versus-a-copy\n",
            "  df['Recruit_Rank'].fillna(0, inplace=True)\n"
          ]
        }
      ],
      "source": [
        "#replacing null values with 0 since not all players get ranked\n",
        "df['Recruit_Rank'].isna().sum()\n",
        "df['Recruit_Rank'].fillna(0, inplace=True)"
      ]
    },
    {
      "cell_type": "markdown",
      "metadata": {
        "id": "Zz8CRh_OMofM"
      },
      "source": [
        "**5. Assist / Turnover**"
      ]
    },
    {
      "cell_type": "code",
      "execution_count": null,
      "metadata": {
        "colab": {
          "base_uri": "https://localhost:8080/"
        },
        "id": "5ykQJbZoSAU3",
        "outputId": "1a5c4666-9f67-426a-c2ae-8c30cc4e7f07"
      },
      "outputs": [
        {
          "output_type": "stream",
          "name": "stderr",
          "text": [
            "<ipython-input-15-0088ae74358d>:3: SettingWithCopyWarning: \n",
            "A value is trying to be set on a copy of a slice from a DataFrame.\n",
            "Try using .loc[row_indexer,col_indexer] = value instead\n",
            "\n",
            "See the caveats in the documentation: https://pandas.pydata.org/pandas-docs/stable/user_guide/indexing.html#returning-a-view-versus-a-copy\n",
            "  df['Assist / Turnover ratio'] = df['Assist / Turnover ratio'].fillna(median)\n"
          ]
        }
      ],
      "source": [
        "#replacing null values for Assist / Turnover ratio with median\n",
        "median = df['Assist / Turnover ratio'].median()\n",
        "df['Assist / Turnover ratio'] = df['Assist / Turnover ratio'].fillna(median)\n",
        "\n"
      ]
    },
    {
      "cell_type": "markdown",
      "metadata": {
        "id": "iuupZ9kzO2nn"
      },
      "source": [
        "**6. Searching for Nulls in Columns 46-64**"
      ]
    },
    {
      "cell_type": "code",
      "execution_count": null,
      "metadata": {
        "colab": {
          "base_uri": "https://localhost:8080/"
        },
        "id": "OPsLQLlENzFe",
        "outputId": "0c98adca-cf26-46b5-8687-97f6131ee36c"
      },
      "outputs": [
        {
          "output_type": "execute_result",
          "data": {
            "text/plain": [
              "Defensive_rating                                       8\n",
              "Adjusted_defensive_rating                              8\n",
              "Defensive_points_over_replacement_per_adjusted_game    8\n",
              "Stops                                                  8\n",
              "Box plus/minus                                         8\n",
              "Offensive box plus/minus                               8\n",
              "Defensive box plus/minus                               8\n",
              "gbpm                                                   8\n",
              "Minutes_played                                         3\n",
              "Offensive_gbpm                                         8\n",
              "Defensive_gbpm                                         8\n",
              "Offensive_rebounds                                     3\n",
              "Defensive_rebounds                                     3\n",
              "Total_rebounds                                         3\n",
              "Assists                                                3\n",
              "Steals                                                 3\n",
              "Blocks                                                 3\n",
              "Points                                                 3\n",
              "dtype: int64"
            ]
          },
          "metadata": {},
          "execution_count": 16
        }
      ],
      "source": [
        "#checking for null values for columns from 46 to 64\n",
        "df[['Defensive_rating','Adjusted_defensive_rating', 'Defensive_points_over_replacement_per_adjusted_game', 'Stops','Box plus/minus','Offensive box plus/minus','Defensive box plus/minus','gbpm','Minutes_played','Offensive_gbpm','Defensive_gbpm','Offensive_rebounds','Defensive_rebounds','Total_rebounds','Assists','Steals','Blocks','Points']].isna().sum()"
      ]
    },
    {
      "cell_type": "code",
      "execution_count": null,
      "metadata": {
        "colab": {
          "base_uri": "https://localhost:8080/"
        },
        "id": "FPJ9tinQOwQG",
        "outputId": "3d043db3-9be9-406d-b85c-4a23eb3677fe"
      },
      "outputs": [
        {
          "output_type": "stream",
          "name": "stderr",
          "text": [
            "<ipython-input-17-6d53ea9d9dee>:2: SettingWithCopyWarning: \n",
            "A value is trying to be set on a copy of a slice from a DataFrame\n",
            "\n",
            "See the caveats in the documentation: https://pandas.pydata.org/pandas-docs/stable/user_guide/indexing.html#returning-a-view-versus-a-copy\n",
            "  df.dropna(subset=['Defensive_rating','Adjusted_defensive_rating', 'Defensive_points_over_replacement_per_adjusted_game', 'Stops','Box plus/minus','Offensive box plus/minus','Defensive box plus/minus','gbpm','Minutes_played','Offensive_gbpm','Defensive_gbpm','Offensive_rebounds','Defensive_rebounds','Total_rebounds','Assists','Steals','Blocks','Points'], inplace=True)\n"
          ]
        }
      ],
      "source": [
        "#dropping the null values which accounts for less than 1% of the dataset\n",
        "df.dropna(subset=['Defensive_rating','Adjusted_defensive_rating', 'Defensive_points_over_replacement_per_adjusted_game', 'Stops','Box plus/minus','Offensive box plus/minus','Defensive box plus/minus','gbpm','Minutes_played','Offensive_gbpm','Defensive_gbpm','Offensive_rebounds','Defensive_rebounds','Total_rebounds','Assists','Steals','Blocks','Points'], inplace=True)\n"
      ]
    },
    {
      "cell_type": "markdown",
      "metadata": {
        "id": "zxaHHw5-gHJX"
      },
      "source": [
        "**6. Searching for Nulls in Columns 36-44**"
      ]
    },
    {
      "cell_type": "code",
      "execution_count": null,
      "metadata": {
        "colab": {
          "base_uri": "https://localhost:8080/"
        },
        "id": "6coBQUBV-8p8",
        "outputId": "dfff187e-21ce-4feb-9722-dc9614d528ef"
      },
      "outputs": [
        {
          "output_type": "execute_result",
          "data": {
            "text/plain": [
              "Rim_shots_made               6207\n",
              "Rim-shots_attempted          6207\n",
              "Midrange_shots_made          6207\n",
              "Midrange_shots_attempted     6207\n",
              "Rim_shots %                  9923\n",
              "Midrange_shots %            10180\n",
              "Dunks_made                   6207\n",
              "Dunks_attempted              6207\n",
              "Dunks %                     33214\n",
              "dtype: int64"
            ]
          },
          "metadata": {},
          "execution_count": 18
        }
      ],
      "source": [
        "#checking for null values for columns 36 to 44\n",
        "#these nulls are a significantly larger number than what we are used to\n",
        "df[['Rim_shots_made','Rim-shots_attempted', 'Midrange_shots_made', 'Midrange_shots_attempted','Rim_shots %','Midrange_shots %','Dunks_made','Dunks_attempted','Dunks %']].isna().sum()"
      ]
    },
    {
      "cell_type": "markdown",
      "metadata": {
        "id": "pSHyTVx9ga4H"
      },
      "source": [
        "**7. Searching for unique values in the Object Columns**"
      ]
    },
    {
      "cell_type": "code",
      "execution_count": null,
      "metadata": {
        "colab": {
          "base_uri": "https://localhost:8080/"
        },
        "id": "gp_tG1OUH_ne",
        "outputId": "2794542a-1c27-484a-9b96-2f782a6a3367"
      },
      "outputs": [
        {
          "output_type": "execute_result",
          "data": {
            "text/plain": [
              "array([nan, 'Combo G', 'Pure PG', 'Wing F', 'PF/C', 'Wing G', 'C',\n",
              "       'Stretch 4', 'Scoring PG'], dtype=object)"
            ]
          },
          "metadata": {},
          "execution_count": 19
        }
      ],
      "source": [
        "df['Role/Position'].unique()"
      ]
    },
    {
      "cell_type": "code",
      "execution_count": null,
      "metadata": {
        "colab": {
          "base_uri": "https://localhost:8080/"
        },
        "id": "7keBvbfxOjyB",
        "outputId": "1e0c49d7-0ccd-40b0-ca60-3fa2f5f8e5c8"
      },
      "outputs": [
        {
          "output_type": "execute_result",
          "data": {
            "text/plain": [
              "array(['SB', 'WAC', 'BE', 'WCC', 'BW', 'Horz', 'ind', 'A10', 'NEC', 'ACC',\n",
              "       'SEC', 'AE', 'MAAC', 'Pat', 'SWAC', 'CAA', 'MVC', 'MAC', 'B12',\n",
              "       'CUSA', 'P10', 'B10', 'SC', 'MEAC', 'Slnd', 'Ivy', 'Sum', 'ASun',\n",
              "       'MWC', 'BSky', 'OVC', 'BSth', 'GWC', 'P12', 'Amer', 'Ind'],\n",
              "      dtype=object)"
            ]
          },
          "metadata": {},
          "execution_count": 20
        }
      ],
      "source": [
        "df['conference'].unique()"
      ]
    },
    {
      "cell_type": "code",
      "execution_count": null,
      "metadata": {
        "colab": {
          "base_uri": "https://localhost:8080/"
        },
        "id": "3yp6-xkgMIlS",
        "outputId": "dbb8c8ec-e5ec-4917-949c-2f09fc4fd2a4"
      },
      "outputs": [
        {
          "output_type": "execute_result",
          "data": {
            "text/plain": [
              "array(['all'], dtype=object)"
            ]
          },
          "metadata": {},
          "execution_count": 21
        }
      ],
      "source": [
        "df['Type'].unique()"
      ]
    },
    {
      "cell_type": "markdown",
      "metadata": {
        "id": "TjNmkR0kky-t"
      },
      "source": [
        "We drop the column 'Unnamed: 65' as it can not be interpreted"
      ]
    },
    {
      "cell_type": "code",
      "execution_count": null,
      "metadata": {
        "colab": {
          "base_uri": "https://localhost:8080/"
        },
        "id": "a_Q3qWKclKIb",
        "outputId": "d1cb9750-9ee9-4241-ad78-331c512e2a23"
      },
      "outputs": [
        {
          "output_type": "stream",
          "name": "stderr",
          "text": [
            "<ipython-input-22-f266d864f9c8>:2: SettingWithCopyWarning: \n",
            "A value is trying to be set on a copy of a slice from a DataFrame\n",
            "\n",
            "See the caveats in the documentation: https://pandas.pydata.org/pandas-docs/stable/user_guide/indexing.html#returning-a-view-versus-a-copy\n",
            "  df.drop(columns=['Unnamed: 65'], inplace=True)\n"
          ]
        }
      ],
      "source": [
        "#dropping Unnamed: 65\n",
        "df.drop(columns=['Unnamed: 65'], inplace=True)"
      ]
    },
    {
      "cell_type": "markdown",
      "metadata": {
        "id": "siNdPeSIghjn"
      },
      "source": [
        "**8. Observing patterns in the Nulls of the ``Role/Position`` column**"
      ]
    },
    {
      "cell_type": "markdown",
      "metadata": {
        "id": "iA07md1xk3tF"
      },
      "source": [
        "We temporarily create a DataFrame called 'dfrp' to observe any patterns in the rows of players with null values in the 'Role/Position' column."
      ]
    },
    {
      "cell_type": "code",
      "execution_count": null,
      "metadata": {
        "id": "V005kzsEk59g"
      },
      "outputs": [],
      "source": [
        "dfrp = df.copy()"
      ]
    },
    {
      "cell_type": "code",
      "execution_count": null,
      "metadata": {
        "colab": {
          "base_uri": "https://localhost:8080/"
        },
        "id": "BcqRjj4ik8ON",
        "outputId": "691cba8c-03bd-4279-cad7-183476f75e43"
      },
      "outputs": [
        {
          "output_type": "execute_result",
          "data": {
            "text/plain": [
              "array([nan, 'Combo G', 'Pure PG', 'Wing F', 'PF/C', 'Wing G', 'C',\n",
              "       'Stretch 4', 'Scoring PG'], dtype=object)"
            ]
          },
          "metadata": {},
          "execution_count": 24
        }
      ],
      "source": [
        "dfrp['Role/Position'].unique()"
      ]
    },
    {
      "cell_type": "code",
      "execution_count": null,
      "metadata": {
        "id": "NZfB6bk2k-dv"
      },
      "outputs": [],
      "source": [
        "dfrp = dfrp[dfrp['Role/Position'].isna()]"
      ]
    },
    {
      "cell_type": "code",
      "execution_count": null,
      "metadata": {
        "colab": {
          "base_uri": "https://localhost:8080/"
        },
        "id": "rWlFYOnwlBDv",
        "outputId": "4ef93eaa-4204-4dfb-ef60-e59a8d39461c"
      },
      "outputs": [
        {
          "output_type": "stream",
          "name": "stdout",
          "text": [
            "<class 'pandas.core.frame.DataFrame'>\n",
            "Int64Index: 4596 entries, 0 to 59476\n",
            "Data columns (total 64 columns):\n",
            " #   Column                                               Non-Null Count  Dtype  \n",
            "---  ------                                               --------------  -----  \n",
            " 0   player_name                                          4596 non-null   object \n",
            " 1   team                                                 4596 non-null   object \n",
            " 2   conference                                           4596 non-null   object \n",
            " 3   games_played                                         4596 non-null   int64  \n",
            " 4   min_per                                              4596 non-null   float64\n",
            " 5   offensive_rating                                     4596 non-null   float64\n",
            " 6   usage                                                4596 non-null   float64\n",
            " 7   effective_field_goal_%                               4596 non-null   float64\n",
            " 8   true_shooting_%                                      4596 non-null   float64\n",
            " 9   offensive_rebound_%                                  4596 non-null   float64\n",
            " 10  defensive_rebound_%                                  4596 non-null   float64\n",
            " 11  assist_%                                             4596 non-null   float64\n",
            " 12  turnover_%                                           4596 non-null   float64\n",
            " 13  free_throws_made                                     4596 non-null   int64  \n",
            " 14  free_throws_attempted                                4596 non-null   int64  \n",
            " 15  free_throws_%                                        4596 non-null   float64\n",
            " 16  2-pointers_made                                      4596 non-null   int64  \n",
            " 17  2-pointers_attempted                                 4596 non-null   int64  \n",
            " 18  2-pointers_%                                         4596 non-null   float64\n",
            " 19  3-pointers_made                                      4596 non-null   int64  \n",
            " 20  3-pointers_attempted                                 4596 non-null   int64  \n",
            " 21  3-pointers_%                                         4596 non-null   float64\n",
            " 22  Block_%                                              4596 non-null   float64\n",
            " 23  Steal_%                                              4596 non-null   float64\n",
            " 24  free_throw_rate                                      4596 non-null   float64\n",
            " 25  year_of_college                                      4596 non-null   object \n",
            " 26  num                                                  4596 non-null   object \n",
            " 27  Pointers_over_replacement_per_adjusted_game          4596 non-null   float64\n",
            " 28  Adjusted_offensive_efficiency                        4596 non-null   float64\n",
            " 29  pfr                                                  4596 non-null   float64\n",
            " 30  year                                                 4596 non-null   int64  \n",
            " 31  Player_ID_(recurring for each year)                  4596 non-null   int64  \n",
            " 32  Type                                                 4596 non-null   object \n",
            " 33  Recruit_Rank                                         4596 non-null   float64\n",
            " 34  Assist / Turnover ratio                              4596 non-null   float64\n",
            " 35  Rim_shots_made                                       5 non-null      float64\n",
            " 36  Rim-shots_attempted                                  5 non-null      float64\n",
            " 37  Midrange_shots_made                                  5 non-null      float64\n",
            " 38  Midrange_shots_attempted                             5 non-null      float64\n",
            " 39  Rim_shots %                                          2 non-null      float64\n",
            " 40  Midrange_shots %                                     3 non-null      float64\n",
            " 41  Dunks_made                                           5 non-null      float64\n",
            " 42  Dunks_attempted                                      5 non-null      float64\n",
            " 43  Dunks %                                              0 non-null      float64\n",
            " 44  Pick_drafted                                         138 non-null    float64\n",
            " 45  Defensive_rating                                     4596 non-null   float64\n",
            " 46  Adjusted_defensive_rating                            4596 non-null   float64\n",
            " 47  Defensive_points_over_replacement_per_adjusted_game  4596 non-null   float64\n",
            " 48  Stops                                                4596 non-null   float64\n",
            " 49  Box plus/minus                                       4596 non-null   float64\n",
            " 50  Offensive box plus/minus                             4596 non-null   float64\n",
            " 51  Defensive box plus/minus                             4596 non-null   float64\n",
            " 52  gbpm                                                 4596 non-null   float64\n",
            " 53  Minutes_played                                       4596 non-null   float64\n",
            " 54  Offensive_gbpm                                       4596 non-null   float64\n",
            " 55  Defensive_gbpm                                       4596 non-null   float64\n",
            " 56  Offensive_rebounds                                   4596 non-null   float64\n",
            " 57  Defensive_rebounds                                   4596 non-null   float64\n",
            " 58  Total_rebounds                                       4596 non-null   float64\n",
            " 59  Assists                                              4596 non-null   float64\n",
            " 60  Steals                                               4596 non-null   float64\n",
            " 61  Blocks                                               4596 non-null   float64\n",
            " 62  Points                                               4596 non-null   float64\n",
            " 63  Role/Position                                        0 non-null      object \n",
            "dtypes: float64(48), int64(9), object(7)\n",
            "memory usage: 2.3+ MB\n"
          ]
        }
      ],
      "source": [
        "dfrp.info()"
      ]
    },
    {
      "cell_type": "markdown",
      "metadata": {
        "id": "sLwH7s3LmBvB"
      },
      "source": [
        "We notice that most nulls are in the column indexes from 35-43.\n",
        "\n",
        "We drop the nulls from the 'Role/Position' by omitting their values in the below code block"
      ]
    },
    {
      "cell_type": "code",
      "execution_count": null,
      "metadata": {
        "id": "dxAfHNtAm9KN"
      },
      "outputs": [],
      "source": [
        "df = df[df['Role/Position'].isin( ['Combo G', 'Pure PG', 'Wing F', 'PF/C', 'Wing G', 'C', 'Stretch 4', 'Scoring PG'])]"
      ]
    },
    {
      "cell_type": "markdown",
      "metadata": {
        "id": "rv904Vl3g2i2"
      },
      "source": [
        "**9. Observing patterns in the Nulls of the columns**\n",
        "\n",
        "``Rim_shots_made``\n",
        "\n",
        "``Rim-shots_attempted``\n",
        "\n",
        "``Midrange_shots_made``\n",
        "\n",
        "``Midrange_shots_attempted``\n",
        "\n",
        "``Rim_shots %``\n",
        "\n",
        "``Midrange_shots %``\n",
        "\n",
        "``Dunks_made``\n",
        "\n",
        "``Dunks_attempted``\n",
        "\n",
        "``Dunks %'``\n"
      ]
    },
    {
      "cell_type": "markdown",
      "metadata": {
        "id": "hq6KVuLtnJ28"
      },
      "source": [
        "We decide to observe patterns in the missing values. We create a temporary dataframe called 'dfpractice'."
      ]
    },
    {
      "cell_type": "code",
      "execution_count": null,
      "metadata": {
        "id": "AbpQWRfsnEKN"
      },
      "outputs": [],
      "source": [
        "dfpractice = df[['Rim_shots_made',\n",
        "'Rim-shots_attempted',\n",
        "'Midrange_shots_made',\n",
        "'Midrange_shots_attempted',\n",
        "'Rim_shots %',\n",
        "'Midrange_shots %',\n",
        "'Dunks_made',\n",
        "'Dunks_attempted',\n",
        "'Dunks %']             ]"
      ]
    },
    {
      "cell_type": "code",
      "execution_count": null,
      "metadata": {
        "id": "Y0v-9cTVnSXf"
      },
      "outputs": [],
      "source": [
        "dfpracticetwo = dfpractice.copy()"
      ]
    },
    {
      "cell_type": "markdown",
      "metadata": {
        "id": "fdYbnRMknWMQ"
      },
      "source": [
        "'Dunks_made' is our test column. We subset the null values to see if certain values are consistently missing."
      ]
    },
    {
      "cell_type": "code",
      "execution_count": null,
      "metadata": {
        "id": "sJfGjphznYNl"
      },
      "outputs": [],
      "source": [
        "dfpractice = dfpracticetwo[dfpracticetwo['Dunks_made'].isna()]"
      ]
    },
    {
      "cell_type": "code",
      "execution_count": null,
      "metadata": {
        "colab": {
          "base_uri": "https://localhost:8080/"
        },
        "id": "hv72gUf5naNT",
        "outputId": "2bc9bb57-ced8-4014-c89e-e6c3ba206f5b"
      },
      "outputs": [
        {
          "output_type": "stream",
          "name": "stdout",
          "text": [
            "<class 'pandas.core.frame.DataFrame'>\n",
            "Int64Index: 1616 entries, 4592 to 61060\n",
            "Data columns (total 9 columns):\n",
            " #   Column                    Non-Null Count  Dtype  \n",
            "---  ------                    --------------  -----  \n",
            " 0   Rim_shots_made            0 non-null      float64\n",
            " 1   Rim-shots_attempted       0 non-null      float64\n",
            " 2   Midrange_shots_made       0 non-null      float64\n",
            " 3   Midrange_shots_attempted  0 non-null      float64\n",
            " 4   Rim_shots %               0 non-null      float64\n",
            " 5   Midrange_shots %          0 non-null      float64\n",
            " 6   Dunks_made                0 non-null      float64\n",
            " 7   Dunks_attempted           0 non-null      float64\n",
            " 8   Dunks %                   0 non-null      float64\n",
            "dtypes: float64(9)\n",
            "memory usage: 126.2 KB\n"
          ]
        }
      ],
      "source": [
        "dfpractice.info()"
      ]
    },
    {
      "cell_type": "markdown",
      "metadata": {
        "id": "GgZgAHotnb7X"
      },
      "source": [
        "We use the 'Rim_shots_made','Rim-shots_attempted', 'Rim_shots %' columns to observe the relationship between the absolute values and the percentage columns of the same performance metric. This relationship is found for:-\n",
        "\n",
        "1. 'Rim_shots_made', 'Rim-shots_attempted', 'Rim_shots %'\n",
        "\n",
        "2. 'Midrange_shots_made', 'Midrange_shots_attempted', 'Midrange_shots %'\n",
        "\n",
        "3. 'Dunks_made', 'Dunks_attempted', 'Dunks %'"
      ]
    },
    {
      "cell_type": "code",
      "execution_count": null,
      "metadata": {
        "id": "MBHZ1sVJne_y"
      },
      "outputs": [],
      "source": [
        "dfrim = df[['Rim_shots_made','Rim-shots_attempted', 'Rim_shots %']]"
      ]
    },
    {
      "cell_type": "code",
      "execution_count": null,
      "metadata": {
        "colab": {
          "base_uri": "https://localhost:8080/"
        },
        "id": "-nljuOo2ngxy",
        "outputId": "2343eb35-8d0b-4e51-8d8a-d5a2f6bf5a62"
      },
      "outputs": [
        {
          "output_type": "stream",
          "name": "stderr",
          "text": [
            "<ipython-input-33-593775140539>:1: SettingWithCopyWarning: \n",
            "A value is trying to be set on a copy of a slice from a DataFrame.\n",
            "Try using .loc[row_indexer,col_indexer] = value instead\n",
            "\n",
            "See the caveats in the documentation: https://pandas.pydata.org/pandas-docs/stable/user_guide/indexing.html#returning-a-view-versus-a-copy\n",
            "  dfrim['rimdivided'] = dfrim['Rim_shots_made'] / dfrim['Rim-shots_attempted']\n"
          ]
        }
      ],
      "source": [
        "dfrim['rimdivided'] = dfrim['Rim_shots_made'] / dfrim['Rim-shots_attempted']"
      ]
    },
    {
      "cell_type": "code",
      "execution_count": null,
      "metadata": {
        "colab": {
          "base_uri": "https://localhost:8080/",
          "height": 424
        },
        "id": "OYtBvCUdniVH",
        "outputId": "1a9d9c72-134f-4fbb-e7b4-9c1220a3c151"
      },
      "outputs": [
        {
          "output_type": "execute_result",
          "data": {
            "text/plain": [
              "       Rim_shots_made  Rim-shots_attempted  Rim_shots %  rimdivided\n",
              "4589             48.0                 75.0       0.6400     0.64000\n",
              "4590              0.0                  0.0          NaN         NaN\n",
              "4591             82.0                134.0       0.6119     0.61194\n",
              "4592              NaN                  NaN          NaN         NaN\n",
              "4593              NaN                  NaN          NaN         NaN\n",
              "...               ...                  ...          ...         ...\n",
              "61056             NaN                  NaN          NaN         NaN\n",
              "61057             0.0                  0.0          NaN         NaN\n",
              "61058             NaN                  NaN          NaN         NaN\n",
              "61059             NaN                  NaN          NaN         NaN\n",
              "61060             NaN                  NaN          NaN         NaN\n",
              "\n",
              "[56155 rows x 4 columns]"
            ],
            "text/html": [
              "\n",
              "  <div id=\"df-942c9192-01e9-410c-8ab5-a76bb5fcbeb3\" class=\"colab-df-container\">\n",
              "    <div>\n",
              "<style scoped>\n",
              "    .dataframe tbody tr th:only-of-type {\n",
              "        vertical-align: middle;\n",
              "    }\n",
              "\n",
              "    .dataframe tbody tr th {\n",
              "        vertical-align: top;\n",
              "    }\n",
              "\n",
              "    .dataframe thead th {\n",
              "        text-align: right;\n",
              "    }\n",
              "</style>\n",
              "<table border=\"1\" class=\"dataframe\">\n",
              "  <thead>\n",
              "    <tr style=\"text-align: right;\">\n",
              "      <th></th>\n",
              "      <th>Rim_shots_made</th>\n",
              "      <th>Rim-shots_attempted</th>\n",
              "      <th>Rim_shots %</th>\n",
              "      <th>rimdivided</th>\n",
              "    </tr>\n",
              "  </thead>\n",
              "  <tbody>\n",
              "    <tr>\n",
              "      <th>4589</th>\n",
              "      <td>48.0</td>\n",
              "      <td>75.0</td>\n",
              "      <td>0.6400</td>\n",
              "      <td>0.64000</td>\n",
              "    </tr>\n",
              "    <tr>\n",
              "      <th>4590</th>\n",
              "      <td>0.0</td>\n",
              "      <td>0.0</td>\n",
              "      <td>NaN</td>\n",
              "      <td>NaN</td>\n",
              "    </tr>\n",
              "    <tr>\n",
              "      <th>4591</th>\n",
              "      <td>82.0</td>\n",
              "      <td>134.0</td>\n",
              "      <td>0.6119</td>\n",
              "      <td>0.61194</td>\n",
              "    </tr>\n",
              "    <tr>\n",
              "      <th>4592</th>\n",
              "      <td>NaN</td>\n",
              "      <td>NaN</td>\n",
              "      <td>NaN</td>\n",
              "      <td>NaN</td>\n",
              "    </tr>\n",
              "    <tr>\n",
              "      <th>4593</th>\n",
              "      <td>NaN</td>\n",
              "      <td>NaN</td>\n",
              "      <td>NaN</td>\n",
              "      <td>NaN</td>\n",
              "    </tr>\n",
              "    <tr>\n",
              "      <th>...</th>\n",
              "      <td>...</td>\n",
              "      <td>...</td>\n",
              "      <td>...</td>\n",
              "      <td>...</td>\n",
              "    </tr>\n",
              "    <tr>\n",
              "      <th>61056</th>\n",
              "      <td>NaN</td>\n",
              "      <td>NaN</td>\n",
              "      <td>NaN</td>\n",
              "      <td>NaN</td>\n",
              "    </tr>\n",
              "    <tr>\n",
              "      <th>61057</th>\n",
              "      <td>0.0</td>\n",
              "      <td>0.0</td>\n",
              "      <td>NaN</td>\n",
              "      <td>NaN</td>\n",
              "    </tr>\n",
              "    <tr>\n",
              "      <th>61058</th>\n",
              "      <td>NaN</td>\n",
              "      <td>NaN</td>\n",
              "      <td>NaN</td>\n",
              "      <td>NaN</td>\n",
              "    </tr>\n",
              "    <tr>\n",
              "      <th>61059</th>\n",
              "      <td>NaN</td>\n",
              "      <td>NaN</td>\n",
              "      <td>NaN</td>\n",
              "      <td>NaN</td>\n",
              "    </tr>\n",
              "    <tr>\n",
              "      <th>61060</th>\n",
              "      <td>NaN</td>\n",
              "      <td>NaN</td>\n",
              "      <td>NaN</td>\n",
              "      <td>NaN</td>\n",
              "    </tr>\n",
              "  </tbody>\n",
              "</table>\n",
              "<p>56155 rows × 4 columns</p>\n",
              "</div>\n",
              "    <div class=\"colab-df-buttons\">\n",
              "\n",
              "  <div class=\"colab-df-container\">\n",
              "    <button class=\"colab-df-convert\" onclick=\"convertToInteractive('df-942c9192-01e9-410c-8ab5-a76bb5fcbeb3')\"\n",
              "            title=\"Convert this dataframe to an interactive table.\"\n",
              "            style=\"display:none;\">\n",
              "\n",
              "  <svg xmlns=\"http://www.w3.org/2000/svg\" height=\"24px\" viewBox=\"0 -960 960 960\">\n",
              "    <path d=\"M120-120v-720h720v720H120Zm60-500h600v-160H180v160Zm220 220h160v-160H400v160Zm0 220h160v-160H400v160ZM180-400h160v-160H180v160Zm440 0h160v-160H620v160ZM180-180h160v-160H180v160Zm440 0h160v-160H620v160Z\"/>\n",
              "  </svg>\n",
              "    </button>\n",
              "\n",
              "  <style>\n",
              "    .colab-df-container {\n",
              "      display:flex;\n",
              "      gap: 12px;\n",
              "    }\n",
              "\n",
              "    .colab-df-convert {\n",
              "      background-color: #E8F0FE;\n",
              "      border: none;\n",
              "      border-radius: 50%;\n",
              "      cursor: pointer;\n",
              "      display: none;\n",
              "      fill: #1967D2;\n",
              "      height: 32px;\n",
              "      padding: 0 0 0 0;\n",
              "      width: 32px;\n",
              "    }\n",
              "\n",
              "    .colab-df-convert:hover {\n",
              "      background-color: #E2EBFA;\n",
              "      box-shadow: 0px 1px 2px rgba(60, 64, 67, 0.3), 0px 1px 3px 1px rgba(60, 64, 67, 0.15);\n",
              "      fill: #174EA6;\n",
              "    }\n",
              "\n",
              "    .colab-df-buttons div {\n",
              "      margin-bottom: 4px;\n",
              "    }\n",
              "\n",
              "    [theme=dark] .colab-df-convert {\n",
              "      background-color: #3B4455;\n",
              "      fill: #D2E3FC;\n",
              "    }\n",
              "\n",
              "    [theme=dark] .colab-df-convert:hover {\n",
              "      background-color: #434B5C;\n",
              "      box-shadow: 0px 1px 3px 1px rgba(0, 0, 0, 0.15);\n",
              "      filter: drop-shadow(0px 1px 2px rgba(0, 0, 0, 0.3));\n",
              "      fill: #FFFFFF;\n",
              "    }\n",
              "  </style>\n",
              "\n",
              "    <script>\n",
              "      const buttonEl =\n",
              "        document.querySelector('#df-942c9192-01e9-410c-8ab5-a76bb5fcbeb3 button.colab-df-convert');\n",
              "      buttonEl.style.display =\n",
              "        google.colab.kernel.accessAllowed ? 'block' : 'none';\n",
              "\n",
              "      async function convertToInteractive(key) {\n",
              "        const element = document.querySelector('#df-942c9192-01e9-410c-8ab5-a76bb5fcbeb3');\n",
              "        const dataTable =\n",
              "          await google.colab.kernel.invokeFunction('convertToInteractive',\n",
              "                                                    [key], {});\n",
              "        if (!dataTable) return;\n",
              "\n",
              "        const docLinkHtml = 'Like what you see? Visit the ' +\n",
              "          '<a target=\"_blank\" href=https://colab.research.google.com/notebooks/data_table.ipynb>data table notebook</a>'\n",
              "          + ' to learn more about interactive tables.';\n",
              "        element.innerHTML = '';\n",
              "        dataTable['output_type'] = 'display_data';\n",
              "        await google.colab.output.renderOutput(dataTable, element);\n",
              "        const docLink = document.createElement('div');\n",
              "        docLink.innerHTML = docLinkHtml;\n",
              "        element.appendChild(docLink);\n",
              "      }\n",
              "    </script>\n",
              "  </div>\n",
              "\n",
              "\n",
              "<div id=\"df-c24a3999-7c98-4fa9-a548-81595fc686db\">\n",
              "  <button class=\"colab-df-quickchart\" onclick=\"quickchart('df-c24a3999-7c98-4fa9-a548-81595fc686db')\"\n",
              "            title=\"Suggest charts\"\n",
              "            style=\"display:none;\">\n",
              "\n",
              "<svg xmlns=\"http://www.w3.org/2000/svg\" height=\"24px\"viewBox=\"0 0 24 24\"\n",
              "     width=\"24px\">\n",
              "    <g>\n",
              "        <path d=\"M19 3H5c-1.1 0-2 .9-2 2v14c0 1.1.9 2 2 2h14c1.1 0 2-.9 2-2V5c0-1.1-.9-2-2-2zM9 17H7v-7h2v7zm4 0h-2V7h2v10zm4 0h-2v-4h2v4z\"/>\n",
              "    </g>\n",
              "</svg>\n",
              "  </button>\n",
              "\n",
              "<style>\n",
              "  .colab-df-quickchart {\n",
              "      --bg-color: #E8F0FE;\n",
              "      --fill-color: #1967D2;\n",
              "      --hover-bg-color: #E2EBFA;\n",
              "      --hover-fill-color: #174EA6;\n",
              "      --disabled-fill-color: #AAA;\n",
              "      --disabled-bg-color: #DDD;\n",
              "  }\n",
              "\n",
              "  [theme=dark] .colab-df-quickchart {\n",
              "      --bg-color: #3B4455;\n",
              "      --fill-color: #D2E3FC;\n",
              "      --hover-bg-color: #434B5C;\n",
              "      --hover-fill-color: #FFFFFF;\n",
              "      --disabled-bg-color: #3B4455;\n",
              "      --disabled-fill-color: #666;\n",
              "  }\n",
              "\n",
              "  .colab-df-quickchart {\n",
              "    background-color: var(--bg-color);\n",
              "    border: none;\n",
              "    border-radius: 50%;\n",
              "    cursor: pointer;\n",
              "    display: none;\n",
              "    fill: var(--fill-color);\n",
              "    height: 32px;\n",
              "    padding: 0;\n",
              "    width: 32px;\n",
              "  }\n",
              "\n",
              "  .colab-df-quickchart:hover {\n",
              "    background-color: var(--hover-bg-color);\n",
              "    box-shadow: 0 1px 2px rgba(60, 64, 67, 0.3), 0 1px 3px 1px rgba(60, 64, 67, 0.15);\n",
              "    fill: var(--button-hover-fill-color);\n",
              "  }\n",
              "\n",
              "  .colab-df-quickchart-complete:disabled,\n",
              "  .colab-df-quickchart-complete:disabled:hover {\n",
              "    background-color: var(--disabled-bg-color);\n",
              "    fill: var(--disabled-fill-color);\n",
              "    box-shadow: none;\n",
              "  }\n",
              "\n",
              "  .colab-df-spinner {\n",
              "    border: 2px solid var(--fill-color);\n",
              "    border-color: transparent;\n",
              "    border-bottom-color: var(--fill-color);\n",
              "    animation:\n",
              "      spin 1s steps(1) infinite;\n",
              "  }\n",
              "\n",
              "  @keyframes spin {\n",
              "    0% {\n",
              "      border-color: transparent;\n",
              "      border-bottom-color: var(--fill-color);\n",
              "      border-left-color: var(--fill-color);\n",
              "    }\n",
              "    20% {\n",
              "      border-color: transparent;\n",
              "      border-left-color: var(--fill-color);\n",
              "      border-top-color: var(--fill-color);\n",
              "    }\n",
              "    30% {\n",
              "      border-color: transparent;\n",
              "      border-left-color: var(--fill-color);\n",
              "      border-top-color: var(--fill-color);\n",
              "      border-right-color: var(--fill-color);\n",
              "    }\n",
              "    40% {\n",
              "      border-color: transparent;\n",
              "      border-right-color: var(--fill-color);\n",
              "      border-top-color: var(--fill-color);\n",
              "    }\n",
              "    60% {\n",
              "      border-color: transparent;\n",
              "      border-right-color: var(--fill-color);\n",
              "    }\n",
              "    80% {\n",
              "      border-color: transparent;\n",
              "      border-right-color: var(--fill-color);\n",
              "      border-bottom-color: var(--fill-color);\n",
              "    }\n",
              "    90% {\n",
              "      border-color: transparent;\n",
              "      border-bottom-color: var(--fill-color);\n",
              "    }\n",
              "  }\n",
              "</style>\n",
              "\n",
              "  <script>\n",
              "    async function quickchart(key) {\n",
              "      const quickchartButtonEl =\n",
              "        document.querySelector('#' + key + ' button');\n",
              "      quickchartButtonEl.disabled = true;  // To prevent multiple clicks.\n",
              "      quickchartButtonEl.classList.add('colab-df-spinner');\n",
              "      try {\n",
              "        const charts = await google.colab.kernel.invokeFunction(\n",
              "            'suggestCharts', [key], {});\n",
              "      } catch (error) {\n",
              "        console.error('Error during call to suggestCharts:', error);\n",
              "      }\n",
              "      quickchartButtonEl.classList.remove('colab-df-spinner');\n",
              "      quickchartButtonEl.classList.add('colab-df-quickchart-complete');\n",
              "    }\n",
              "    (() => {\n",
              "      let quickchartButtonEl =\n",
              "        document.querySelector('#df-c24a3999-7c98-4fa9-a548-81595fc686db button');\n",
              "      quickchartButtonEl.style.display =\n",
              "        google.colab.kernel.accessAllowed ? 'block' : 'none';\n",
              "    })();\n",
              "  </script>\n",
              "</div>\n",
              "    </div>\n",
              "  </div>\n"
            ],
            "application/vnd.google.colaboratory.intrinsic+json": {
              "type": "dataframe",
              "variable_name": "dfrim",
              "summary": "{\n  \"name\": \"dfrim\",\n  \"rows\": 56155,\n  \"fields\": [\n    {\n      \"column\": \"Rim_shots_made\",\n      \"properties\": {\n        \"dtype\": \"number\",\n        \"std\": 29.665542107528324,\n        \"min\": 0.0,\n        \"max\": 247.0,\n        \"num_unique_values\": 200,\n        \"samples\": [\n          107.0,\n          5.0,\n          4.0\n        ],\n        \"semantic_type\": \"\",\n        \"description\": \"\"\n      }\n    },\n    {\n      \"column\": \"Rim-shots_attempted\",\n      \"properties\": {\n        \"dtype\": \"number\",\n        \"std\": 46.84113143860856,\n        \"min\": 0.0,\n        \"max\": 358.0,\n        \"num_unique_values\": 295,\n        \"samples\": [\n          234.0,\n          86.0,\n          69.0\n        ],\n        \"semantic_type\": \"\",\n        \"description\": \"\"\n      }\n    },\n    {\n      \"column\": \"Rim_shots %\",\n      \"properties\": {\n        \"dtype\": \"number\",\n        \"std\": 0.19104812424726775,\n        \"min\": 0.0,\n        \"max\": 1.0,\n        \"num_unique_values\": 2905,\n        \"samples\": [\n          0.6854,\n          0.5211,\n          0.5405\n        ],\n        \"semantic_type\": \"\",\n        \"description\": \"\"\n      }\n    },\n    {\n      \"column\": \"rimdivided\",\n      \"properties\": {\n        \"dtype\": \"number\",\n        \"std\": 0.19104682238585344,\n        \"min\": 0.0,\n        \"max\": 1.0,\n        \"num_unique_values\": 3558,\n        \"samples\": [\n          0.5606936416184971,\n          0.7086092715231788,\n          0.7517241379310344\n        ],\n        \"semantic_type\": \"\",\n        \"description\": \"\"\n      }\n    }\n  ]\n}"
            }
          },
          "metadata": {},
          "execution_count": 34
        }
      ],
      "source": [
        "dfrim"
      ]
    },
    {
      "cell_type": "code",
      "execution_count": null,
      "metadata": {
        "id": "wI7R5fqonkk-"
      },
      "outputs": [],
      "source": [
        "df = df[~df[['Rim_shots_made','Rim-shots_attempted','Midrange_shots_made','Midrange_shots_attempted','Dunks_made','Dunks_attempted']].isna().any(axis=1)]"
      ]
    },
    {
      "cell_type": "markdown",
      "metadata": {
        "id": "cUdzssQFhhaa"
      },
      "source": [
        "**10. Treatment of columns**"
      ]
    },
    {
      "cell_type": "markdown",
      "metadata": {
        "id": "y2Ctiw76noNC"
      },
      "source": [
        "We fill the columns below with 0."
      ]
    },
    {
      "cell_type": "code",
      "execution_count": null,
      "metadata": {
        "id": "rzwU_4D_np1H",
        "colab": {
          "base_uri": "https://localhost:8080/"
        },
        "outputId": "12f78961-a0af-4f03-d83d-c3cef56b8dce"
      },
      "outputs": [
        {
          "output_type": "stream",
          "name": "stderr",
          "text": [
            "<ipython-input-36-08c811721aaa>:1: SettingWithCopyWarning: \n",
            "A value is trying to be set on a copy of a slice from a DataFrame.\n",
            "Try using .loc[row_indexer,col_indexer] = value instead\n",
            "\n",
            "See the caveats in the documentation: https://pandas.pydata.org/pandas-docs/stable/user_guide/indexing.html#returning-a-view-versus-a-copy\n",
            "  df[['Rim_shots %', 'Midrange_shots %', 'Dunks %']] = df[['Rim_shots %', 'Midrange_shots %', 'Dunks %']].fillna(0)\n"
          ]
        }
      ],
      "source": [
        "df[['Rim_shots %', 'Midrange_shots %', 'Dunks %']] = df[['Rim_shots %', 'Midrange_shots %', 'Dunks %']].fillna(0)"
      ]
    },
    {
      "cell_type": "markdown",
      "metadata": {
        "id": "btoOsc0ensD8"
      },
      "source": [
        "we drop the 'Type' and 'num' values after seeing that they do not reflect either performance or tell us anything about the player that is not arbitrary\n",
        "\n"
      ]
    },
    {
      "cell_type": "code",
      "execution_count": null,
      "metadata": {
        "id": "B9FIUkl6ntmR",
        "colab": {
          "base_uri": "https://localhost:8080/"
        },
        "outputId": "ed069150-72ca-465d-bd7f-27394a3bb043"
      },
      "outputs": [
        {
          "output_type": "stream",
          "name": "stderr",
          "text": [
            "<ipython-input-37-f106f7f539ec>:1: SettingWithCopyWarning: \n",
            "A value is trying to be set on a copy of a slice from a DataFrame\n",
            "\n",
            "See the caveats in the documentation: https://pandas.pydata.org/pandas-docs/stable/user_guide/indexing.html#returning-a-view-versus-a-copy\n",
            "  df.drop(['Type', 'num'], axis=1, inplace=True)\n"
          ]
        }
      ],
      "source": [
        "df.drop(['Type', 'num'], axis=1, inplace=True)\n"
      ]
    },
    {
      "cell_type": "markdown",
      "metadata": {
        "id": "-CizESpjhtj3"
      },
      "source": [
        "**11. Finding the unique player values**"
      ]
    },
    {
      "cell_type": "code",
      "execution_count": null,
      "metadata": {
        "colab": {
          "base_uri": "https://localhost:8080/"
        },
        "id": "b4KFayx-Sj8Z",
        "outputId": "a5fba6c5-ef4a-4fde-f818-01a6c53f9843"
      },
      "outputs": [
        {
          "output_type": "execute_result",
          "data": {
            "text/plain": [
              "31292"
            ]
          },
          "metadata": {},
          "execution_count": 38
        }
      ],
      "source": [
        "df['player_name'].duplicated().sum()"
      ]
    },
    {
      "cell_type": "markdown",
      "metadata": {
        "id": "gJvgiLj1nwUl"
      },
      "source": [
        "The below code tells us that there are only 23230 unique players in the dataset."
      ]
    },
    {
      "cell_type": "code",
      "execution_count": null,
      "metadata": {
        "colab": {
          "base_uri": "https://localhost:8080/"
        },
        "id": "yVsKODLkSWpA",
        "outputId": "79da995c-563c-4c2c-a636-71c7dd3450db"
      },
      "outputs": [
        {
          "output_type": "execute_result",
          "data": {
            "text/plain": [
              "23247"
            ]
          },
          "metadata": {},
          "execution_count": 39
        }
      ],
      "source": [
        "df['player_name'].nunique()"
      ]
    },
    {
      "cell_type": "code",
      "execution_count": null,
      "metadata": {
        "colab": {
          "base_uri": "https://localhost:8080/"
        },
        "id": "YRkqNNYtnxzV",
        "outputId": "3d3b3c04-a91e-40ef-d271-56db1f01e3de"
      },
      "outputs": [
        {
          "output_type": "execute_result",
          "data": {
            "text/plain": [
              "23230"
            ]
          },
          "metadata": {},
          "execution_count": 40
        }
      ],
      "source": [
        "df['Player_ID_(recurring for each year)'].nunique()"
      ]
    },
    {
      "cell_type": "markdown",
      "metadata": {
        "id": "kSGr-6iSh1l3"
      },
      "source": [
        "**12. Subsetting Performance and Player Detail Columns**"
      ]
    },
    {
      "cell_type": "markdown",
      "metadata": {
        "id": "uLHiNBnan13u"
      },
      "source": [
        "We subset the performance metrics of players below."
      ]
    },
    {
      "cell_type": "code",
      "execution_count": null,
      "metadata": {
        "id": "-RwMGl5kA6x9"
      },
      "outputs": [],
      "source": [
        "performancecolumns = [\n",
        "    'Assist / Turnover ratio',\n",
        "    'Rim_shots_made',\n",
        "    'Rim-shots_attempted',\n",
        "    'Midrange_shots_made',\n",
        "    'Midrange_shots_attempted',\n",
        "    'Rim_shots %',\n",
        "    'Midrange_shots %',\n",
        "    'Dunks_made',\n",
        "    'Dunks_attempted',\n",
        "    'Dunks %',\n",
        "    'Defensive_rating',\n",
        "    'Adjusted_defensive_rating',\n",
        "    'Defensive_points_over_replacement_per_adjusted_game',\n",
        "    'Stops',\n",
        "    'Box plus/minus',\n",
        "    'Offensive box plus/minus',\n",
        "    'Defensive box plus/minus',\n",
        "    'gbpm',\n",
        "    'Minutes_played',\n",
        "    'Offensive_gbpm',\n",
        "    'Defensive_gbpm',\n",
        "    'Offensive_rebounds',\n",
        "    'Defensive_rebounds',\n",
        "    'Total_rebounds',\n",
        "    'Assists',\n",
        "    'Steals',\n",
        "    'Blocks',\n",
        "    'Points',\n",
        "    'Pointers_over_replacement_per_adjusted_game',\n",
        "    'Adjusted_offensive_efficiency',\n",
        "    'pfr',\n",
        "    'games_played',\n",
        "    'min_per',\n",
        "    'offensive_rating',\n",
        "    'usage',\n",
        "    'effective_field_goal_%',\n",
        "    'true_shooting_%',\n",
        "    'offensive_rebound_%',\n",
        "    'defensive_rebound_%',\n",
        "    'assist_%',\n",
        "    'turnover_%',\n",
        "    'free_throws_made',\n",
        "    'free_throws_attempted',\n",
        "    'free_throws_%',\n",
        "    '2-pointers_made',\n",
        "    '2-pointers_attempted',\n",
        "    '2-pointers_%',\n",
        "    '3-pointers_made',\n",
        "    '3-pointers_attempted',\n",
        "    '3-pointers_%',\n",
        "    'Block_%',\n",
        "    'Steal_%',\n",
        "    'free_throw_rate'\n",
        "]"
      ]
    },
    {
      "cell_type": "markdown",
      "metadata": {
        "id": "9RuIwAgkn7BW"
      },
      "source": [
        "We make a list of the columns that give us player details. We use the first occurring instance of each column."
      ]
    },
    {
      "cell_type": "code",
      "execution_count": null,
      "metadata": {
        "id": "Plj9TCnPn9DZ"
      },
      "outputs": [],
      "source": [
        "newdfplayerdetails = ['player_name','team','conference','Role/Position','year_of_college','year','Recruit_Rank','Role/Position','Pick_drafted']"
      ]
    },
    {
      "cell_type": "markdown",
      "metadata": {
        "id": "NKAuyAD7h8iS"
      },
      "source": [
        "**13. Creating the cleaned DataFrame**"
      ]
    },
    {
      "cell_type": "code",
      "execution_count": null,
      "metadata": {
        "id": "_DKOq_kxn_Ar"
      },
      "outputs": [],
      "source": [
        "agg_dict = {**dict.fromkeys(performancecolumns, 'mean'), **dict.fromkeys(newdfplayerdetails, 'first')}"
      ]
    },
    {
      "cell_type": "code",
      "execution_count": null,
      "metadata": {
        "id": "j9ud-VJ7oBX9"
      },
      "outputs": [],
      "source": [
        "newdf = df.groupby('Player_ID_(recurring for each year)').agg(agg_dict).reset_index()"
      ]
    },
    {
      "cell_type": "code",
      "execution_count": null,
      "metadata": {
        "id": "kXLp5JejoFJ5"
      },
      "outputs": [],
      "source": [
        "newdf = newdf.iloc[:,[54,55,56,57,58,59,60,61,0,1,2,3,4,5,6,7,8,9,10,11,12,13,14,15,16,17,18,19,20,21,22,23,24,25,26,27,28,29,30,31,32,33,34,\\\n",
        "              35,36,37,38,39,40,41,42,43,44,45,46,47,48,49,50,51,52,53]]"
      ]
    },
    {
      "cell_type": "code",
      "execution_count": null,
      "metadata": {
        "id": "h37x8QhhJMyi"
      },
      "outputs": [],
      "source": [
        "newdf = newdf.drop(['player_name', 'team','conference','Role/Position','year_of_college','year','Player_ID_(recurring for each year)'], axis=1)"
      ]
    },
    {
      "cell_type": "code",
      "execution_count": null,
      "metadata": {
        "colab": {
          "base_uri": "https://localhost:8080/"
        },
        "id": "q50zBVQPjfug",
        "outputId": "c3990133-1d04-43b4-8883-dc8b7756a949"
      },
      "outputs": [
        {
          "output_type": "execute_result",
          "data": {
            "text/plain": [
              "22648"
            ]
          },
          "metadata": {},
          "execution_count": 47
        }
      ],
      "source": [
        "newdf['Pick_drafted'].isnull().sum()"
      ]
    }
  ],
  "metadata": {
    "colab": {
      "provenance": [],
      "include_colab_link": true
    },
    "kernelspec": {
      "display_name": "Python 3",
      "name": "python3"
    },
    "language_info": {
      "name": "python"
    }
  },
  "nbformat": 4,
  "nbformat_minor": 0
}